{
 "cells": [
  {
   "cell_type": "markdown",
   "metadata": {},
   "source": [
    "# TensorFlow Mimic"
   ]
  },
  {
   "cell_type": "code",
   "execution_count": 1,
   "metadata": {},
   "outputs": [],
   "source": [
    "#---------------@credits Pierian Data(Udemy)---------\n",
    "#---------------@autohor Ripesh Bista----------------"
   ]
  },
  {
   "cell_type": "code",
   "execution_count": 2,
   "metadata": {},
   "outputs": [],
   "source": [
    "class Operation():\n",
    "    def __init__(self, input_nodes =[]):\n",
    "        self.input_nodes= input_nodes\n",
    "        #takes input_nodes from the __init___ function\n",
    "        self.output_nodes =[]\n",
    "        #self.output is empty \n",
    "        for node in input_nodes:\n",
    "            # loops input_nodes \n",
    "            print(node)\n",
    "            node.output_nodes.append(self)\n",
    "            #node.output_nodes.append(self) refers to Operation()\n",
    "            #means once the operation is done it will send to refered operation \n",
    "        _default_graph.operations.append(self)    \n",
    "    def compute(self):\n",
    "        #this fucntion is gonna be overwritten by the child class\n",
    "        pass"
   ]
  },
  {
   "cell_type": "code",
   "execution_count": 3,
   "metadata": {},
   "outputs": [],
   "source": [
    "class add(Operation):\n",
    "    def __init__(self,x,y):\n",
    "        super().__init__([x,y])\n",
    "    def compute(self,x_var,y_var):\n",
    "        #operation class compute function is over written \n",
    "        self.inputs =[x_var,y_var]\n",
    "        return x_var+y_var"
   ]
  },
  {
   "cell_type": "code",
   "execution_count": 4,
   "metadata": {},
   "outputs": [],
   "source": [
    "class multiply(Operation):\n",
    "    def __init__(self,x,y):\n",
    "        super().__init__([x,y])\n",
    "    def compute(self,x_var,y_var):\n",
    "        self.inputs =[x_var,y_var]\n",
    "        return x_var*y_var"
   ]
  },
  {
   "cell_type": "code",
   "execution_count": 5,
   "metadata": {},
   "outputs": [],
   "source": [
    "class matmul(Operation):\n",
    "    def __init__(self,x,y):\n",
    "        super().__init__([x,y])\n",
    "    def compute(self,x_var,y_var):\n",
    "        self.inputs =[x_var,y_var]\n",
    "        return x_var.dot(y_var)"
   ]
  },
  {
   "cell_type": "code",
   "execution_count": 6,
   "metadata": {},
   "outputs": [],
   "source": [
    "class Placeholder():\n",
    "    #Placeholder \n",
    "    def __init__(self):\n",
    "        self.output_nodes =[]\n",
    "        #so output_node has not got it's value till graph function\n",
    "        _default_graph.placeholders.append(self)\n",
    "        # graph class list will get the placeholder value"
   ]
  },
  {
   "cell_type": "code",
   "execution_count": 7,
   "metadata": {},
   "outputs": [],
   "source": [
    "class Variable():\n",
    "    def __init__(self, initial_value = None):\n",
    "        self.value = initial_value\n",
    "        self.output_nodes = []\n",
    "        #same as place holder output node is empty\n",
    "        _default_graph.variables.append(self)"
   ]
  },
  {
   "cell_type": "code",
   "execution_count": 8,
   "metadata": {},
   "outputs": [],
   "source": [
    "class Graph():\n",
    "    def __init__(self):\n",
    "        self.operations=[]\n",
    "        #it gets what operation to do from operation class\n",
    "        self.variables=[]\n",
    "        #it gets variable from variable class\n",
    "        self.placeholders=[]\n",
    "        #it gets place holder from placeholder class\n",
    "        \n",
    "    def set_as_default(self):\n",
    "        global _default_graph\n",
    "        _default_graph = self"
   ]
  },
  {
   "cell_type": "code",
   "execution_count": 9,
   "metadata": {},
   "outputs": [],
   "source": [
    "g =Graph()\n",
    "g.set_as_default()\n",
    "#setting graph as default \n",
    "\n",
    "# to be remembered ,still the self.output_nodes is empty so it needs to be filled for the operation\n",
    "# A=10\n",
    "# b=1\n",
    "# z=10x+1\n"
   ]
  },
  {
   "cell_type": "code",
   "execution_count": 10,
   "metadata": {},
   "outputs": [],
   "source": [
    "A = Variable(10)\n",
    "b= Variable(1)\n"
   ]
  },
  {
   "cell_type": "code",
   "execution_count": 11,
   "metadata": {},
   "outputs": [],
   "source": [
    "x= Placeholder()\n"
   ]
  },
  {
   "cell_type": "code",
   "execution_count": 12,
   "metadata": {},
   "outputs": [
    {
     "name": "stdout",
     "output_type": "stream",
     "text": [
      "<__main__.Variable object at 0x000001BBA5524400>\n",
      "<__main__.Placeholder object at 0x000001BBA5524518>\n"
     ]
    }
   ],
   "source": [
    "y = multiply(A,x)"
   ]
  },
  {
   "cell_type": "code",
   "execution_count": 13,
   "metadata": {},
   "outputs": [
    {
     "name": "stdout",
     "output_type": "stream",
     "text": [
      "<__main__.multiply object at 0x000001BBA5524828>\n",
      "<__main__.Variable object at 0x000001BBA55243C8>\n"
     ]
    }
   ],
   "source": [
    "\n",
    "z= add(y,b)\n",
    "\n",
    "# Session will extecute the graph also no outputnode is filled.\n",
    "# PostOrder Tree Traversal computes in the correct order"
   ]
  },
  {
   "cell_type": "code",
   "execution_count": 14,
   "metadata": {},
   "outputs": [],
   "source": [
    "#this algorithm is not necessary and just implemented it\n",
    "#it makes sure that we execute the computation in correct order\n",
    "def traverse_postorder(operation):\n",
    "    nodes_postorder =[]\n",
    "    def recurse(node):\n",
    "        if isinstance(node, Operation):\n",
    "            # (obj, class_or_tuple) node is object and Operation is class\n",
    "            \n",
    "            for input_node in node.input_nodes:\n",
    "                recurse(input_node)\n",
    "        nodes_postorder.append(node)    \n",
    "    recurse(operation)    \n",
    "    return nodes_postorder"
   ]
  },
  {
   "cell_type": "code",
   "execution_count": 15,
   "metadata": {},
   "outputs": [],
   "source": [
    "class Session():\n",
    "    def run(self,operation,feed_dict={}):\n",
    "      \n",
    "        nodes_postorder = traverse_postorder(operation)\n",
    "        \n",
    "            \n",
    "        for node in nodes_postorder:\n",
    "            if type(node) == Placeholder:\n",
    "                node.output = feed_dict[node]\n",
    "      \n",
    "            elif type(node) ==  Variable:\n",
    "                node.output = node.value\n",
    "     \n",
    "            else:\n",
    "                node.inputs = [input_node.output for input_node in node.input_nodes]\n",
    "                node.output = node.compute(*node.inputs)\n",
    "            \n",
    "            if type(node.output) ==list:\n",
    "                node.output =np.array(node.output)\n",
    "                    \n",
    "        return operation.output        \n",
    "            \n",
    "            "
   ]
  },
  {
   "cell_type": "code",
   "execution_count": 16,
   "metadata": {},
   "outputs": [],
   "source": [
    "sess = Session()"
   ]
  },
  {
   "cell_type": "code",
   "execution_count": 17,
   "metadata": {},
   "outputs": [],
   "source": [
    "result = sess.run(operation=z,feed_dict={x:10})"
   ]
  },
  {
   "cell_type": "code",
   "execution_count": 18,
   "metadata": {},
   "outputs": [
    {
     "data": {
      "text/plain": [
       "101"
      ]
     },
     "execution_count": 18,
     "metadata": {},
     "output_type": "execute_result"
    }
   ],
   "source": [
    "result"
   ]
  },
  {
   "cell_type": "code",
   "execution_count": null,
   "metadata": {},
   "outputs": [],
   "source": []
  }
 ],
 "metadata": {
  "kernelspec": {
   "display_name": "Python 3",
   "language": "python",
   "name": "python3"
  },
  "language_info": {
   "codemirror_mode": {
    "name": "ipython",
    "version": 3
   },
   "file_extension": ".py",
   "mimetype": "text/x-python",
   "name": "python",
   "nbconvert_exporter": "python",
   "pygments_lexer": "ipython3",
   "version": "3.7.3"
  }
 },
 "nbformat": 4,
 "nbformat_minor": 2
}
